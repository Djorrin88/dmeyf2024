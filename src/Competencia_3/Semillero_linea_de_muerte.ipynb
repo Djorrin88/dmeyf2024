{
 "cells": [
  {
   "cell_type": "code",
   "execution_count": null,
   "metadata": {},
   "outputs": [],
   "source": [
    "import numpy as np\n",
    "import pandas as pd\n",
    "import gzip\n",
    "import shutil"
   ]
  },
  {
   "cell_type": "code",
   "execution_count": null,
   "metadata": {},
   "outputs": [],
   "source": [
    "# linea de muerte 10 semillas\n",
    "df_102191 = pd.read_csv('/home/maestria_uba_jorrin/buckets/b1/exp/lineademuerte/102191/lineademuerte_future.csv',low_memory=False,  sep=',') \n",
    "df_573761 = pd.read_csv('/home/maestria_uba_jorrin/buckets/b1/exp/lineademuerte/573761/lineademuerte_future.csv',low_memory=False,  sep=',') \n",
    "df_601043 = pd.read_csv('/home/maestria_uba_jorrin/buckets/b1/exp/lineademuerte/601043/lineademuerte_future.csv',low_memory=False,  sep=',') \n",
    "df_999991 = pd.read_csv('/home/maestria_uba_jorrin/buckets/b1/exp/lineademuerte/999991/lineademuerte_future.csv',low_memory=False,  sep=',') \n",
    "df_571741 = pd.read_csv('/home/maestria_uba_jorrin/buckets/b1/exp/lineademuerte/571741/lineademuerte_future.csv',low_memory=False,  sep=',') \n",
    "df_603401 = pd.read_csv('/home/maestria_uba_jorrin/buckets/b1/exp/lineademuerte/603401/lineademuerte_future.csv',low_memory=False,  sep=',') \n",
    "df_232197 = pd.read_csv('/home/maestria_uba_jorrin/buckets/b1/exp/lineademuerte/232197/lineademuerte_future.csv',low_memory=False,  sep=',') \n",
    "df_372191 = pd.read_csv('/home/maestria_uba_jorrin/buckets/b1/exp/lineademuerte/372191/lineademuerte_future.csv',low_memory=False,  sep=',') \n",
    "df_702191 = pd.read_csv('/home/maestria_uba_jorrin/buckets/b1/exp/lineademuerte/702191/lineademuerte_future.csv',low_memory=False,  sep=',') \n",
    "df_777711 = pd.read_csv('/home/maestria_uba_jorrin/buckets/b1/exp/lineademuerte/777711/lineademuerte_future.csv',low_memory=False,  sep=',') "
   ]
  },
  {
   "cell_type": "code",
   "execution_count": null,
   "metadata": {},
   "outputs": [],
   "source": [
    "df = df_102191[['numero_de_cliente']].copy()\n",
    "df['sem_1_1'] = np.array((df_102191 [['prob']]+df_573761[['prob']]+df_601043[['prob']]+df_999991[['prob']]+df_571741[['prob']]+df_603401[['prob']]\n",
    "                          +df_232197 [['prob']]+df_372191[['prob']]+df_702191[['prob']]+df_777711[['prob']])/10.0)"
   ]
  },
  {
   "cell_type": "code",
   "execution_count": null,
   "metadata": {},
   "outputs": [],
   "source": [
    "df_sorted = df.sort_values(by=\"sem_1_1\", ascending=False)\n",
    "df_sorted['Predicted']=0"
   ]
  },
  {
   "cell_type": "code",
   "execution_count": null,
   "metadata": {},
   "outputs": [],
   "source": [
    "df_si=df_sorted[['numero_de_cliente','sem_1_1','Predicted']].reset_index(drop=True) \n",
    "df_si.loc[:11000-1, \"Predicted\"] = 1\n",
    "df_si.drop(columns=['sem_1_1'], inplace=True)"
   ]
  },
  {
   "cell_type": "code",
   "execution_count": null,
   "metadata": {},
   "outputs": [],
   "source": [
    "df_si.to_csv('/home/maestria_uba_jorrin/buckets/b1/exp/lineademuerte/prediccion_hibrida_linea_de_muerte_10_sem_11000.csv',index=False)"
   ]
  }
 ],
 "metadata": {
  "interpreter": {
   "hash": "7aab4429b6e32afeae24bc9f7bfb4772bf945fa367f4b5318cda4c3be5c6e7a2"
  },
  "kernelspec": {
   "display_name": "Python 3.9.7 64-bit (conda)",
   "name": "python3"
  },
  "language_info": {
   "codemirror_mode": {
    "name": "ipython",
    "version": 3
   },
   "file_extension": ".py",
   "mimetype": "text/x-python",
   "name": "python",
   "nbconvert_exporter": "python",
   "pygments_lexer": "ipython3",
   "version": "3.8.10"
  },
  "orig_nbformat": 4
 },
 "nbformat": 4,
 "nbformat_minor": 2
}
