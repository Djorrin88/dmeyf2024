{
 "cells": [
  {
   "cell_type": "code",
   "execution_count": null,
   "metadata": {},
   "outputs": [],
   "source": [
    "import numpy as np\n",
    "import pandas as pd\n",
    "import gzip\n",
    "import shutil"
   ]
  },
  {
   "cell_type": "code",
   "execution_count": null,
   "metadata": {},
   "outputs": [],
   "source": [
    "df = pd.read_csv('/home/maestria_uba_jorrin/buckets/b1/expw_competencia_3/SC-0001/tb_future_prediccion.txt',low_memory=False,  sep='\\t') \n",
    "\n"
   ]
  },
  {
   "cell_type": "code",
   "execution_count": null,
   "metadata": {},
   "outputs": [],
   "source": [
    "#hibrido\n",
    "df_1108 = pd.read_csv('/home/maestria_uba_jorrin/buckets/b1/expw_competencia_3_hib/SC-0002/tb_future_prediccion.txt',low_memory=False,  sep='\\t') \n",
    "df_1110 = pd.read_csv('/home/maestria_uba_jorrin/buckets/b1/expw_competencia_3_hib/SC-0001/tb_future_prediccion.txt',low_memory=False,  sep='\\t') \n",
    "df_1113 = pd.read_csv('/home/maestria_uba_jorrin/buckets/b1/expw_competencia_3_hib/SC-0003/tb_future_prediccion.txt',low_memory=False,  sep='\\t') \n",
    "df_1114 = pd.read_csv('/home/maestria_uba_jorrin/buckets/b1/expw_competencia_3_hib/SC-0004/tb_future_prediccion.txt',low_memory=False,  sep='\\t') "
   ]
  },
  {
   "cell_type": "code",
   "execution_count": null,
   "metadata": {},
   "outputs": [],
   "source": [
    "df = df_1108[['numero_de_cliente','sem_1_1']]\n",
    "df['sem_1_1']=(df_1108['sem_1_1']+df_1110['sem_1_1']+df_1113['sem_1_1']+df_1114['sem_1_1'])/4"
   ]
  },
  {
   "cell_type": "code",
   "execution_count": null,
   "metadata": {},
   "outputs": [],
   "source": [
    "df_sorted = df.sort_values(by=\"sem_1_1\", ascending=False)\n",
    "df_sorted['Predicted']=0"
   ]
  },
  {
   "cell_type": "code",
   "execution_count": null,
   "metadata": {},
   "outputs": [],
   "source": [
    "df_si=df_sorted[['numero_de_cliente','sem_1_1','Predicted']].reset_index(drop=True) \n",
    "df_si.loc[:11000-1, \"Predicted\"] = 1\n",
    "df_si.drop(columns=['foto_mes','sem_1_1'], inplace=True)"
   ]
  },
  {
   "cell_type": "code",
   "execution_count": null,
   "metadata": {},
   "outputs": [],
   "source": [
    "df_si.to_csv('/home/maestria_uba_jorrin/buckets/b1/exp/hibrido/prediccion_hibrida.csv',index=False)"
   ]
  }
 ],
 "metadata": {
  "interpreter": {
   "hash": "7aab4429b6e32afeae24bc9f7bfb4772bf945fa367f4b5318cda4c3be5c6e7a2"
  },
  "kernelspec": {
   "display_name": "Python 3.9.7 64-bit (conda)",
   "name": "python3"
  },
  "language_info": {
   "codemirror_mode": {
    "name": "ipython",
    "version": 3
   },
   "file_extension": ".py",
   "mimetype": "text/x-python",
   "name": "python",
   "nbconvert_exporter": "python",
   "pygments_lexer": "ipython3",
   "version": "3.8.10"
  },
  "orig_nbformat": 4
 },
 "nbformat": 4,
 "nbformat_minor": 2
}
