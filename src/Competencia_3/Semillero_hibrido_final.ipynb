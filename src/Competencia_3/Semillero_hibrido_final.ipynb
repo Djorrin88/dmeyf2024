{
 "cells": [
  {
   "cell_type": "code",
   "execution_count": null,
   "metadata": {},
   "outputs": [],
   "source": [
    "import numpy as np\n",
    "import pandas as pd\n",
    "import gzip\n",
    "import shutil"
   ]
  },
  {
   "cell_type": "code",
   "execution_count": null,
   "metadata": {},
   "outputs": [],
   "source": [
    "df = pd.read_csv('/home/maestria_uba_jorrin/buckets/b1/expw_competencia_3/SC-0001/tb_future_prediccion.txt',low_memory=False,  sep='\\t') \n",
    "\n"
   ]
  },
  {
   "cell_type": "code",
   "execution_count": null,
   "metadata": {},
   "outputs": [],
   "source": [
    "#hibrido\n",
    "df_1108 = pd.read_csv('/home/maestria_uba_jorrin/buckets/b1/expw_competencia_3_hib/SC-0002/tb_future_prediccion.txt',low_memory=False,  sep='\\t') \n",
    "df_1110 = pd.read_csv('/home/maestria_uba_jorrin/buckets/b1/expw_competencia_3_hib/SC-0001/tb_future_prediccion.txt',low_memory=False,  sep='\\t') \n",
    "df_1113 = pd.read_csv('/home/maestria_uba_jorrin/buckets/b1/expw_competencia_3_hib/SC-0003/tb_future_prediccion.txt',low_memory=False,  sep='\\t') \n",
    "df_1114 = pd.read_csv('/home/maestria_uba_jorrin/buckets/b1/expw_competencia_3_hib/SC-0004/tb_future_prediccion.txt',low_memory=False,  sep='\\t') \n",
    "#surtido\n",
    "df_1102 = pd.read_csv('/home/maestria_uba_jorrin/buckets/b1/expw_competencia_3/SC-0004/tb_future_prediccion.txt',low_memory=False,  sep='\\t') \n",
    "df_1105 = pd.read_csv('/home/maestria_uba_jorrin/buckets/b1/expw_competencia_3/SC-0006/tb_future_prediccion.txt',low_memory=False,  sep='\\t') \n",
    "df_1107 = pd.read_csv('/home/maestria_uba_jorrin/buckets/b1/expw_competencia_3/SC-0005/tb_future_prediccion.txt',low_memory=False,  sep='\\t') \n",
    "df_1109 = pd.read_csv('/home/maestria_uba_jorrin/buckets/b1/expw_competencia_3/SC-0010/tb_future_prediccion.txt',low_memory=False,  sep='\\t') \n",
    "df_1111 = pd.read_csv('/home/maestria_uba_jorrin/buckets/b1/expw_competencia_3/SC-0007/tb_future_prediccion.txt',low_memory=False,  sep='\\t') \n",
    "df_1112 = pd.read_csv('/home/maestria_uba_jorrin/buckets/b1/expw_competencia_3/SC-0009/tb_future_prediccion.txt',low_memory=False,  sep='\\t') \n",
    "df_1116 = pd.read_csv('/home/maestria_uba_jorrin/buckets/b1/expw_competencia_3/SC-0011/tb_future_prediccion.txt',low_memory=False,  sep='\\t') \n",
    "# sin B1 \n",
    "df_1117 = pd.read_csv('/home/maestria_uba_jorrin/buckets/b1/expw_competencia_3_sin_B1/SC-0003/tb_future_prediccion.txt',low_memory=False,  sep='\\t') \n",
    "# linea de muerte.\n",
    "df_102191 = pd.read_csv('/home/maestria_uba_jorrin/buckets/b1/exp/lineademuerte/102191/lineademuerte_future.csv',low_memory=False,  sep=',') \n",
    "df_573761 = pd.read_csv('/home/maestria_uba_jorrin/buckets/b1/exp/lineademuerte/573761/lineademuerte_future.csv',low_memory=False,  sep=',') \n",
    "df_601043 = pd.read_csv('/home/maestria_uba_jorrin/buckets/b1/exp/lineademuerte/601043/lineademuerte_future.csv',low_memory=False,  sep=',') \n",
    "df_999991 = pd.read_csv('/home/maestria_uba_jorrin/buckets/b1/exp/lineademuerte/999991/lineademuerte_future.csv',low_memory=False,  sep=',') \n",
    "df_571741 = pd.read_csv('/home/maestria_uba_jorrin/buckets/b1/exp/lineademuerte/571741/lineademuerte_future.csv',low_memory=False,  sep=',') \n",
    "df_603401 = pd.read_csv('/home/maestria_uba_jorrin/buckets/b1/exp/lineademuerte/603401/lineademuerte_future.csv',low_memory=False,  sep=',') \n",
    "df_232197 = pd.read_csv('/home/maestria_uba_jorrin/buckets/b1/exp/lineademuerte/232197/lineademuerte_future.csv',low_memory=False,  sep=',') \n",
    "df_372191 = pd.read_csv('/home/maestria_uba_jorrin/buckets/b1/exp/lineademuerte/372191/lineademuerte_future.csv',low_memory=False,  sep=',') \n",
    "df_702191 = pd.read_csv('/home/maestria_uba_jorrin/buckets/b1/exp/lineademuerte/702191/lineademuerte_future.csv',low_memory=False,  sep=',') \n",
    "df_777711 = pd.read_csv('/home/maestria_uba_jorrin/buckets/b1/exp/lineademuerte/777711/lineademuerte_future.csv',low_memory=False,  sep=',') \n",
    "\n",
    "\n",
    "\n"
   ]
  },
  {
   "cell_type": "code",
   "execution_count": null,
   "metadata": {},
   "outputs": [],
   "source": [
    "df_102191[['sem_1_1']] = df_102191[['prob']]\n",
    "df_573761[['sem_1_1']] = df_573761[['prob']]\n",
    "df_601043[['sem_1_1']] = df_601043[['prob']]\n",
    "df_999991[['sem_1_1']] = df_999991[['prob']]\n",
    "df_571741[['sem_1_1']] = df_571741[['prob']]\n",
    "df_603401[['sem_1_1']] = df_603401[['prob']]\n",
    "df_232197[['sem_1_1']] = df_232197[['prob']]\n",
    "df_372191[['sem_1_1']] = df_372191[['prob']]\n",
    "df_702191[['sem_1_1']] = df_702191[['prob']]\n",
    "df_777711[['sem_1_1']] = df_777711[['prob']]"
   ]
  },
  {
   "cell_type": "code",
   "execution_count": null,
   "metadata": {},
   "outputs": [],
   "source": [
    "df = df_1108[['numero_de_cliente']].copy()\n",
    "df['sem_1_1'] = np.array((df_1108[['sem_1_1']]+df_1110[['sem_1_1']]+df_1113[['sem_1_1']]+df_1114[['sem_1_1']]\n",
    "                          +df_1102[['sem_1_1']]+df_1105[['sem_1_1']]+df_1107[['sem_1_1']]+df_1109[['sem_1_1']]+df_1111[['sem_1_1']]+df_1112[['sem_1_1']]\n",
    "                          +df_1116[['sem_1_1']]+df_1117[['sem_1_1']] \n",
    "                          +df_102191 [['sem_1_1']]+df_573761[['sem_1_1']]+df_601043[['sem_1_1']]+df_999991[['sem_1_1']]+df_571741[['sem_1_1']]+df_603401[['sem_1_1']]\n",
    "                          +df_232197 [['sem_1_1']]+df_372191[['sem_1_1']]+df_702191[['sem_1_1']]+df_777711[['sem_1_1']])/22.0)"
   ]
  },
  {
   "cell_type": "code",
   "execution_count": null,
   "metadata": {},
   "outputs": [],
   "source": [
    "df_sorted = df.sort_values(by=\"sem_1_1\", ascending=False)\n",
    "df_sorted['Predicted']=0"
   ]
  },
  {
   "cell_type": "code",
   "execution_count": null,
   "metadata": {},
   "outputs": [],
   "source": [
    "df_si=df_sorted[['numero_de_cliente','sem_1_1','Predicted']].reset_index(drop=True) \n",
    "df_si.loc[:11000-1, \"Predicted\"] = 1\n",
    "df_si.drop(columns=['sem_1_1'], inplace=True)"
   ]
  },
  {
   "cell_type": "code",
   "execution_count": null,
   "metadata": {},
   "outputs": [],
   "source": [
    "df_si.to_csv('/home/maestria_uba_jorrin/buckets/b1/exp/hibrido/prediccion_hibrida_final_11000.csv',index=False)"
   ]
  }
 ],
 "metadata": {
  "interpreter": {
   "hash": "7aab4429b6e32afeae24bc9f7bfb4772bf945fa367f4b5318cda4c3be5c6e7a2"
  },
  "kernelspec": {
   "display_name": "Python 3.9.7 64-bit (conda)",
   "name": "python3"
  },
  "language_info": {
   "codemirror_mode": {
    "name": "ipython",
    "version": 3
   },
   "file_extension": ".py",
   "mimetype": "text/x-python",
   "name": "python",
   "nbconvert_exporter": "python",
   "pygments_lexer": "ipython3",
   "version": "3.8.10"
  },
  "orig_nbformat": 4
 },
 "nbformat": 4,
 "nbformat_minor": 2
}
