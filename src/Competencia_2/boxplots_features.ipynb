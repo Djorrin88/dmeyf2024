{
 "cells": [
  {
   "cell_type": "code",
   "execution_count": 2,
   "metadata": {},
   "outputs": [],
   "source": [
    "import numpy as np\n",
    "import pandas as pd\n",
    "import gzip\n",
    "import shutil\n",
    "import matplotlib.pyplot as plt\n",
    "import seaborn as sns\n",
    "from matplotlib.backends.backend_pdf import PdfPages\n"
   ]
  },
  {
   "cell_type": "code",
   "execution_count": null,
   "metadata": {},
   "outputs": [],
   "source": [
    "with gzip.open('/home/maestria_uba_jorrin/buckets/b1/datasets/competencia_02_correcto.csv.gz') as f:\n",
    "    df_1 = pd.read_csv(f,low_memory=False)\n",
    "\n",
    "df_ordenado = df_1.sort_values(by=['numero_de_cliente','foto_mes'])"
   ]
  },
  {
   "cell_type": "code",
   "execution_count": null,
   "metadata": {},
   "outputs": [],
   "source": [
    "with gzip.open('/home/maestria_uba_jorrin/buckets/b1/expw/DR-0005/dataset.csv.gz') as f1: #buckets/b1/expw/DR-0006/dataset.csv.gz\n",
    "    df_rank_cero = pd.read_csv(f1,low_memory=False)\n",
    "\n",
    "df_rank_cero_ordenado = df_rank_cero.sort_values(by=['numero_de_cliente','foto_mes'])"
   ]
  },
  {
   "cell_type": "code",
   "execution_count": null,
   "metadata": {},
   "outputs": [],
   "source": [
    "features = df_1.columns\n",
    "# definamos campos monetarios\n",
    "campos_monetarios = [feature for feature in features if feature.startswith(('m', 'Visa_m','Master_m','vm_m'))]  #(m|Visa_m|Master_m|vm_m)"
   ]
  },
  {
   "cell_type": "code",
   "execution_count": null,
   "metadata": {},
   "outputs": [],
   "source": [
    "#Definimos campos monetarios para la correccion data drift rank cero\n",
    "\n",
    "# String to add\n",
    "suffix = \"_rank\"\n",
    "\n",
    "# Add the suffix to each string in the list\n",
    "campos_monetarios_rank = [s + suffix for s in campos_monetarios]"
   ]
  },
  {
   "cell_type": "code",
   "execution_count": null,
   "metadata": {},
   "outputs": [],
   "source": [
    "features = df_1.columns\n",
    "# definamos campos monetarios\n",
    "campos_no_monetarios = [feature for feature in features if feature.startswith(('c', 'Visa_c','Master_c','vm_c'))]  #(m|Visa_m|Master_m|vm_m)"
   ]
  },
  {
   "cell_type": "code",
   "execution_count": null,
   "metadata": {},
   "outputs": [],
   "source": [
    "# Create a PDF to store the figures\n",
    "with PdfPages('/home/maestria_uba_jorrin/buckets/b1/Figuras/box_plot_sin_correccion_data_drift.pdf') as pdf:\n",
    "    for campo in campos_monetarios:\n",
    "        \n",
    "        # Plot the data\n",
    "        plt.figure(figsize=(30, 6))\n",
    "        sns.boxplot(x='foto_mes', y=campo,hue=\"clase_ternaria\", data=df_ordenado, showfliers=False)\n",
    "        plt.title(\"Boxplot de por mes, sin data drift\")\n",
    "        plt.xlabel(\"mes\")\n",
    "        plt.ylabel(campo)\n",
    "\n",
    "        # Save the current figure to the PDF\n",
    "        pdf.savefig()\n",
    "        \n",
    "        # Close the current figure to free up memory\n",
    "        plt.close()\n",
    "\n",
    "print(\"PDF saved as 'multiple_figures.pdf'\")"
   ]
  },
  {
   "cell_type": "code",
   "execution_count": null,
   "metadata": {},
   "outputs": [],
   "source": [
    "# Create a PDF to store the figures\n",
    "with PdfPages('/home/maestria_uba_jorrin/buckets/b1/Figuras/multiple_figures.pdf') as pdf:\n",
    "    for campo in campos_monetarios[:3]:\n",
    "        # Create a new figure\n",
    "        plt.figure()\n",
    "        \n",
    "        # Plot the data\n",
    "        box_plot_feature_monthly_ternaria(campo,df_ordenado)\n",
    "        box_plot_feature_monthly_ternaria(campo,df_ordenado)\n",
    "\n",
    "        # Save the current figure to the PDF\n",
    "        pdf.savefig()\n",
    "        \n",
    "        # Close the current figure to free up memory\n",
    "        plt.close()\n",
    "\n",
    "print(\"PDF saved as 'multiple_figures.pdf'\")"
   ]
  },
  {
   "cell_type": "code",
   "execution_count": null,
   "metadata": {},
   "outputs": [],
   "source": [
    "def box_plot_feature_monthly(feature,df):\n",
    "    plt.figure(figsize=(30, 6))\n",
    "    sns.boxplot(x='foto_mes', y=feature, data=df, showfliers=False)\n",
    "    plt.title(\"Boxplot de por mes, sin data drift\")\n",
    "    plt.xlabel(\"mes\")\n",
    "    plt.ylabel(feature)\n",
    "    plt.show()"
   ]
  },
  {
   "cell_type": "code",
   "execution_count": null,
   "metadata": {},
   "outputs": [],
   "source": [
    "def box_plot_feature_monthly_ternaria(feature,df):\n",
    "    plt.figure(figsize=(30, 6))\n",
    "    sns.boxplot(x='foto_mes', y=feature,hue=\"clase_ternaria\", data=df, showfliers=False)\n",
    "    plt.title(\"Boxplot de por mes, data_drift: dolar blue\")\n",
    "    plt.xlabel(\"mes\")\n",
    "    plt.ylabel(feature)\n",
    "    plt.show()"
   ]
  },
  {
   "cell_type": "code",
   "execution_count": null,
   "metadata": {},
   "outputs": [],
   "source": [
    "# Create a PDF to store the figures\n",
    "with PdfPages('/home/maestria_uba_jorrin/buckets/b1/Figuras/box_plot_correccion_data_drift_rank_cero.pdf') as pdf:\n",
    "    for campo in campos_monetarios:\n",
    "        \n",
    "        # Plot the data\n",
    "        plt.figure(figsize=(30, 6))\n",
    "        sns.boxplot(x='foto_mes', y=campo, data=df_rank_cero_ordenado, showfliers=False)\n",
    "        plt.title(\"Boxplot de por mes, sin data drift\")\n",
    "        plt.xlabel(\"mes\")\n",
    "        plt.ylabel(campo)\n",
    "\n",
    "        # Save the current figure to the PDF\n",
    "        pdf.savefig()\n",
    "        \n",
    "        # Close the current figure to free up memory\n",
    "        plt.close()\n",
    "\n",
    "print(\"PDF saved as 'box_plot_correccion_data_drift_rank_cero.pdf'\")"
   ]
  },
  {
   "cell_type": "code",
   "execution_count": null,
   "metadata": {},
   "outputs": [],
   "source": [
    "        fig, axes = plt.subplots(2, 1, figsize=(30, 12)) \n",
    "        sns.boxplot(x='foto_mes', ax=axes[0],y='ctrx_quarter', data=df_rank_cero_ordenado, showfliers=False)\n",
    "        axes[0].set_title('Linear Plot')\n",
    "        axes[0].set_xlabel('X-axis')\n",
    "        axes[0].set_ylabel('Y-axis')\n",
    "        axes[0].legend()\n",
    "\n",
    "        # Plot the second figure on the second subplot\n",
    "        sns.boxplot(x='foto_mes', ax=axes[1],y='ctrx_quarter', data=df_rank_cero_ordenado, showfliers=False)\n",
    "        axes[1].set_title('Quadratic Plot')\n",
    "        axes[1].set_xlabel('X-axis')\n",
    "        axes[1].set_ylabel('Y-axis')\n",
    "        axes[1].legend()\n",
    "\n",
    "        # Adjust layout for better spacing between plots\n",
    "        plt.tight_layout()"
   ]
  },
  {
   "cell_type": "code",
   "execution_count": null,
   "metadata": {},
   "outputs": [],
   "source": [
    "# Create a PDF to store the figures\n",
    "with PdfPages('/home/maestria_uba_jorrin/buckets/b1/Figuras/box_plot_no_monetario.pdf') as pdf:\n",
    "    for campo in campos_no_monetarios:\n",
    "        \n",
    "        # Plot the data\n",
    "        #plt.figure(figsize=(30, 6))\n",
    "\n",
    "        fig, axes = plt.subplots(2, 1, figsize=(30, 12)) \n",
    "        \n",
    "        sns.boxplot(x='foto_mes', ax=axes[0],y=campo,hue=\"clase_ternaria\", data=df_ordenado, showfliers=False)\n",
    "        axes[0].set_title('Boxplot de por mes sin outliers')\n",
    "        axes[0].set_xlabel('mes')\n",
    "        axes[0].set_ylabel(campo)\n",
    "\n",
    "        # Plot the second figure on the second subplot\n",
    "        sns.boxplot(x='foto_mes', ax=axes[1],y=campo,hue=\"clase_ternaria\" ,data=df_ordenado)\n",
    "        axes[1].set_title('Boxplot de por mes con outliers')\n",
    "        axes[1].set_xlabel(\"mes\")\n",
    "        axes[1].set_ylabel(campo)\n",
    "\n",
    "        # Adjust layout for better spacing between plots\n",
    "        plt.tight_layout()\n",
    "\n",
    "        # Adjust layout for better spacing between plots\n",
    "        plt.tight_layout()\n",
    "\n",
    "        # Save the current figure to the PDF\n",
    "        pdf.savefig()\n",
    "        \n",
    "        # Close the current figure to free up memory\n",
    "        plt.close()\n",
    "\n",
    "print(\"PDF saved as 'multiple_figures.pdf'\")"
   ]
  },
  {
   "cell_type": "code",
   "execution_count": null,
   "metadata": {},
   "outputs": [],
   "source": [
    "# Create a PDF to store the figures\n",
    "with PdfPages('/home/maestria_uba_jorrin/buckets/b1/Figuras/box_plot_monetario_correccion_rank_cero.pdf') as pdf:\n",
    "    for campo in campos_monetarios:\n",
    "        \n",
    "        # Plot the data\n",
    "        #plt.figure(figsize=(30, 6))\n",
    "\n",
    "        fig, axes = plt.subplots(2, 1, figsize=(30, 12)) \n",
    "        \n",
    "        sns.boxplot(x='foto_mes', ax=axes[0],y=campo,hue=\"clase_ternaria\", data=df_rank_cero_ordenado, showfliers=False)\n",
    "        axes[0].set_title('Boxplot de por mes sin outliers con correccion rank cero')\n",
    "        axes[0].set_xlabel('mes')\n",
    "        axes[0].set_ylabel(campo)\n",
    "\n",
    "        # Plot the second figure on the second subplot\n",
    "        sns.boxplot(x='foto_mes', ax=axes[1],y=campo,hue=\"clase_ternaria\" ,df_rank_cero_ordenado)\n",
    "        axes[1].set_title('Boxplot de por mes con outliers con correccion rank cero')\n",
    "        axes[1].set_xlabel(\"mes\")\n",
    "        axes[1].set_ylabel(campo)\n",
    "\n",
    "        # Adjust layout for better spacing between plots\n",
    "        plt.tight_layout()\n",
    "\n",
    "        # Adjust layout for better spacing between plots\n",
    "        plt.tight_layout()\n",
    "\n",
    "        # Save the current figure to the PDF\n",
    "        pdf.savefig()\n",
    "        \n",
    "        # Close the current figure to free up memory\n",
    "        plt.close()\n"
   ]
  }
 ],
 "metadata": {
  "interpreter": {
   "hash": "7aab4429b6e32afeae24bc9f7bfb4772bf945fa367f4b5318cda4c3be5c6e7a2"
  },
  "kernelspec": {
   "display_name": "Python 3.9.7 64-bit (conda)",
   "name": "python3"
  },
  "language_info": {
   "codemirror_mode": {
    "name": "ipython",
    "version": 3
   },
   "file_extension": ".py",
   "mimetype": "text/x-python",
   "name": "python",
   "nbconvert_exporter": "python",
   "pygments_lexer": "ipython3",
   "version": "3.8.10"
  },
  "orig_nbformat": 4
 },
 "nbformat": 4,
 "nbformat_minor": 2
}
