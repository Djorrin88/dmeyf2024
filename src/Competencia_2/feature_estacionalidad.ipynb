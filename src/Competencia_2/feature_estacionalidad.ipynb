{
 "cells": [
  {
   "cell_type": "code",
   "execution_count": 2,
   "metadata": {},
   "outputs": [],
   "source": [
    "import numpy as np\n",
    "import pandas as pd\n",
    "import gzip\n",
    "import shutil\n",
    "import matplotlib.pyplot as plt\n",
    "import seaborn as sns\n",
    "from matplotlib.backends.backend_pdf import PdfPages\n"
   ]
  },
  {
   "cell_type": "code",
   "execution_count": null,
   "metadata": {},
   "outputs": [],
   "source": [
    "with gzip.open('/home/maestria_uba_jorrin/buckets/b1/datasets/competencia_02_correcto.csv.gz') as f:\n",
    "    df_1 = pd.read_csv(f,low_memory=False)\n",
    "\n",
    "df_ordenado = df_1.sort_values(by=['numero_de_cliente','foto_mes'])"
   ]
  },
  {
   "cell_type": "code",
   "execution_count": null,
   "metadata": {},
   "outputs": [],
   "source": [
    "with gzip.open('/home/maestria_uba_jorrin/buckets/b1/expw/DR-0005/dataset.csv.gz') as f1: #buckets/b1/expw/DR-0006/dataset.csv.gz\n",
    "    df_rank_cero = pd.read_csv(f1,low_memory=False)\n",
    "\n",
    "df_rank_cero_ordenado = df_rank_cero.sort_values(by=['numero_de_cliente','foto_mes'])"
   ]
  },
  {
   "cell_type": "code",
   "execution_count": 1,
   "metadata": {},
   "outputs": [
    {
     "ename": "NameError",
     "evalue": "name 'df_1' is not defined",
     "output_type": "error",
     "traceback": [
      "\u001b[0;31m---------------------------------------------------------------------------\u001b[0m",
      "\u001b[0;31mNameError\u001b[0m                                 Traceback (most recent call last)",
      "\u001b[0;32m<ipython-input-1-664341a2b744>\u001b[0m in \u001b[0;36m<module>\u001b[0;34m\u001b[0m\n\u001b[0;32m----> 1\u001b[0;31m \u001b[0mdf_1\u001b[0m\u001b[0;34m.\u001b[0m\u001b[0mhead\u001b[0m\u001b[0;34m(\u001b[0m\u001b[0;34m)\u001b[0m\u001b[0;34m\u001b[0m\u001b[0;34m\u001b[0m\u001b[0m\n\u001b[0m",
      "\u001b[0;31mNameError\u001b[0m: name 'df_1' is not defined"
     ]
    }
   ],
   "source": [
    "df_1.head()"
   ]
  },
  {
   "cell_type": "code",
   "execution_count": null,
   "metadata": {},
   "outputs": [],
   "source": [
    "# Create a PDF to store the figures\n",
    "with PdfPages('/home/maestria_uba_jorrin/buckets/b1/Figuras/box_plot_sin_correccion_data_drift.pdf') as pdf:\n",
    "    for campo in campos_monetarios:\n",
    "        \n",
    "        # Plot the data\n",
    "        plt.figure(figsize=(30, 6))\n",
    "        sns.boxplot(x='foto_mes', y=campo,hue=\"clase_ternaria\", data=df_ordenado, showfliers=False)\n",
    "        plt.title(\"Boxplot de por mes, sin data drift\")\n",
    "        plt.xlabel(\"mes\")\n",
    "        plt.ylabel(campo)\n",
    "\n",
    "        # Save the current figure to the PDF\n",
    "        pdf.savefig()\n",
    "        \n",
    "        # Close the current figure to free up memory\n",
    "        plt.close()\n",
    "\n",
    "print(\"PDF saved as 'multiple_figures.pdf'\")"
   ]
  },
  {
   "cell_type": "code",
   "execution_count": null,
   "metadata": {},
   "outputs": [],
   "source": [
    "features = df_1.columns\n",
    "# definamos campos monetarios\n",
    "campos_monetarios = [feature for feature in features if feature.startswith(('m', 'Visa_m','Master_m','vm_m'))]  #(m|Visa_m|Master_m|vm_m)"
   ]
  },
  {
   "cell_type": "code",
   "execution_count": null,
   "metadata": {},
   "outputs": [],
   "source": [
    "# String to add\n",
    "suffix = \"_rank\"\n",
    "\n",
    "# Add the suffix to each string in the list\n",
    "campos_monetarios_rank = [s + suffix for s in campos_monetarios]"
   ]
  },
  {
   "cell_type": "code",
   "execution_count": 3,
   "metadata": {},
   "outputs": [],
   "source": [
    "df_ordenado = df_1.sort_values(by=['numero_de_cliente','foto_mes'])"
   ]
  },
  {
   "cell_type": "code",
   "execution_count": null,
   "metadata": {},
   "outputs": [],
   "source": [
    "# Create a PDF to store the figures\n",
    "with PdfPages('/home/maestria_uba_jorrin/buckets/b1/Figuras/multiple_figures.pdf') as pdf:\n",
    "    for campo in campos_monetarios[:3]:\n",
    "        # Create a new figure\n",
    "        plt.figure()\n",
    "        \n",
    "        # Plot the data\n",
    "        box_plot_feature_monthly_ternaria(campo,df_ordenado)\n",
    "        box_plot_feature_monthly_ternaria(campo,df_ordenado)\n",
    "\n",
    "        # Save the current figure to the PDF\n",
    "        pdf.savefig()\n",
    "        \n",
    "        # Close the current figure to free up memory\n",
    "        plt.close()\n",
    "\n",
    "print(\"PDF saved as 'multiple_figures.pdf'\")"
   ]
  },
  {
   "cell_type": "code",
   "execution_count": null,
   "metadata": {},
   "outputs": [],
   "source": [
    "def box_plot_feature_monthly(feature,df):\n",
    "    plt.figure(figsize=(30, 6))\n",
    "    sns.boxplot(x='foto_mes', y=feature, data=df, showfliers=False)\n",
    "    plt.title(\"Boxplot de por mes, sin data drift\")\n",
    "    plt.xlabel(\"mes\")\n",
    "    plt.ylabel(feature)\n",
    "    plt.show()"
   ]
  },
  {
   "cell_type": "code",
   "execution_count": null,
   "metadata": {},
   "outputs": [],
   "source": [
    "def box_plot_feature_monthly_ternaria(feature,df):\n",
    "    plt.figure(figsize=(30, 6))\n",
    "    sns.boxplot(x='foto_mes', y=feature,hue=\"clase_ternaria\", data=df, showfliers=False)\n",
    "    plt.title(\"Boxplot de por mes, data_drift: dolar blue\")\n",
    "    plt.xlabel(\"mes\")\n",
    "    plt.ylabel(feature)\n",
    "    plt.show()"
   ]
  },
  {
   "cell_type": "code",
   "execution_count": null,
   "metadata": {},
   "outputs": [],
   "source": [
    "# Plotting with seaborn\n",
    "plt.figure(figsize=(30, 6))\n",
    "sns.boxplot(x='foto_mes', y='Visa_cconsumos', data=df_ordenado[df_ordenado['Visa_cconsumos']<20])\n",
    "plt.title(\"Boxplot of feature1 grouped by feature2\")\n",
    "plt.xlabel(\"feature2\")\n",
    "plt.ylabel(\"feature1\")\n",
    "plt.show()"
   ]
  },
  {
   "cell_type": "code",
   "execution_count": null,
   "metadata": {},
   "outputs": [],
   "source": [
    "# Plotting with seaborn\n",
    "plt.figure(figsize=(30, 6))\n",
    "sns.boxplot(x='foto_mes', y='ctrx_quarter', data=df_ordenado[df_ordenado['ctrx_quarter']<30])\n",
    "plt.title(\"Boxplot of feature1 grouped by feature2\")\n",
    "plt.xlabel(\"feature2\")\n",
    "plt.ylabel(\"feature1\")\n",
    "plt.show()"
   ]
  },
  {
   "cell_type": "code",
   "execution_count": null,
   "metadata": {},
   "outputs": [],
   "source": [
    "# Plotting with seaborn\n",
    "plt.figure(figsize=(30, 6))\n",
    "sns.boxplot(x='foto_mes', y='ctransferencias_recibidas', data=df_ordenado[df_ordenado['ctransferencias_recibidas']<10])\n",
    "plt.title(\"Boxplot of feature1 grouped by feature2\")\n",
    "plt.xlabel(\"feature2\")\n",
    "plt.ylabel(\"feature1\")\n",
    "plt.show()"
   ]
  },
  {
   "cell_type": "code",
   "execution_count": null,
   "metadata": {},
   "outputs": [],
   "source": [
    "# Plotting with seaborn\n",
    "plt.figure(figsize=(30, 6))\n",
    "sns.boxplot(x='foto_mes', y='mcuentas_saldo', data=df_ordenado[(df_ordenado['mcuentas_saldo']<200000)&(df_ordenado['mcuentas_saldo']>-100000)])\n",
    "plt.title(\"Boxplot of feature1 grouped by feature2\")\n",
    "plt.xlabel(\"feature2\")\n",
    "plt.ylabel(\"feature1\")\n",
    "plt.show()"
   ]
  },
  {
   "cell_type": "code",
   "execution_count": null,
   "metadata": {},
   "outputs": [],
   "source": [
    "# Plotting with seaborn\n",
    "plt.figure(figsize=(30, 6))\n",
    "sns.boxplot(x='foto_mes', y='mcuentas_saldo',hue=\"clase_ternaria\", data=df_ordenado[(df_ordenado['mcuentas_saldo']<200000)&(df_ordenado['mcuentas_saldo']>-100000)])\n",
    "plt.title(\"Boxplot of feature1 grouped by feature2\")\n",
    "plt.xlabel(\"feature2\")\n",
    "plt.ylabel(\"feature1\")\n",
    "plt.show()"
   ]
  },
  {
   "cell_type": "code",
   "execution_count": null,
   "metadata": {},
   "outputs": [],
   "source": [
    "# Plotting with seaborn\n",
    "plt.figure(figsize=(30, 6))\n",
    "sns.boxplot(x='foto_mes', y='mcuentas_saldo',hue=\"clase_ternaria\", data=df_ordenado[(df_ordenado['mcuentas_saldo']<200000)&(df_ordenado['mcuentas_saldo']>-100000)&(df_ordenado['foto_mes']>202003)])\n",
    "plt.title(\"Boxplot of feature1 grouped by feature2\")\n",
    "plt.xlabel(\"feature2\")\n",
    "plt.ylabel(\"feature1\")\n",
    "plt.show()"
   ]
  },
  {
   "cell_type": "code",
   "execution_count": null,
   "metadata": {},
   "outputs": [],
   "source": [
    "#caso dolar blue\n",
    "with gzip.open('/home/maestria_uba_jorrin/buckets/b1/jorrin1493/expw/DR-0004/competencia_02.csv.gz') as f:\n",
    "    df_dolar_blue = pd.read_csv(f)\n"
   ]
  },
  {
   "cell_type": "code",
   "execution_count": null,
   "metadata": {},
   "outputs": [],
   "source": [
    "df_dolar_blue_ordenado = df_1.sort_values(by=['numero_de_cliente','foto_mes'])"
   ]
  },
  {
   "cell_type": "code",
   "execution_count": null,
   "metadata": {},
   "outputs": [],
   "source": [
    "def box_plot_feature_monthly(feature):\n",
    "    plt.figure(figsize=(30, 6))\n",
    "    sns.boxplot(x='foto_mes', y=feature,hue=\"clase_ternaria\", data=df_dolar_blue_ordenado, showfliers=False)\n",
    "    plt.title(\"Boxplot de por mes, data_drift: dolar blue\")\n",
    "    plt.xlabel(\"mes\")\n",
    "    plt.ylabel(feature)\n",
    "    plt.show()\n"
   ]
  },
  {
   "cell_type": "code",
   "execution_count": null,
   "metadata": {},
   "outputs": [],
   "source": [
    "with gzip.open('/home/maestria_uba_jorrin/buckets/b1/expw/DR-0005/dataset.csv.gz') as f1: #buckets/b1/expw/DR-0006/dataset.csv.gz\n",
    "    df_rank_cero = pd.read_csv(f1,low_memory=False)"
   ]
  },
  {
   "cell_type": "code",
   "execution_count": null,
   "metadata": {},
   "outputs": [],
   "source": [
    "df_rank_cero_ordenado = df_rank_cero.sort_values(by=['numero_de_cliente','foto_mes'])"
   ]
  },
  {
   "cell_type": "code",
   "execution_count": null,
   "metadata": {},
   "outputs": [],
   "source": [
    "pd.options.display.max_columns = None\n",
    "df_dolar_blue_ordenado.head()"
   ]
  },
  {
   "cell_type": "code",
   "execution_count": null,
   "metadata": {},
   "outputs": [],
   "source": [
    "#caso dolar blue\n",
    "with gzip.open('/home/maestria_uba_jorrin/buckets/b1/expw/DR-0006/dataset.csv.gz') as f2: #buckets/b1/expw/DR-0006/dataset.csv.gz\n",
    "    df_dolar_blue = pd.read_csv(f2,low_memory=False)\n"
   ]
  },
  {
   "cell_type": "code",
   "execution_count": null,
   "metadata": {},
   "outputs": [],
   "source": [
    "df_dolar_blue_ordenado = df_dolar_blue.sort_values(by=['numero_de_cliente','foto_mes'])"
   ]
  },
  {
   "cell_type": "code",
   "execution_count": null,
   "metadata": {},
   "outputs": [],
   "source": [
    "    plt.figure(figsize=(30, 6))\n",
    "    sns.boxplot(x='foto_mes', y='mcuentas_saldo',hue=\"clase_ternaria\", data=df_dolar_blue_ordenado, showfliers=False)\n",
    "    plt.title(\"Boxplot de por mes, data_drift: dolar blue\")\n",
    "    plt.xlabel(\"mes\")\n",
    "    plt.ylabel('mcuentas_saldo')\n",
    "    plt.show()"
   ]
  },
  {
   "cell_type": "code",
   "execution_count": null,
   "metadata": {},
   "outputs": [],
   "source": [
    "    plt.figure(figsize=(30, 6))\n",
    "    sns.boxplot(x='foto_mes', y='mcuentas_saldo_rank',hue=\"clase_ternaria\", data=df_rank_cero_ordenado, showfliers=False)\n",
    "    plt.title(\"Boxplot de por mes, data_drift: rank cero\")\n",
    "    plt.xlabel(\"mes\")\n",
    "    plt.ylabel('mcuentas_saldo_rank')\n",
    "    plt.show()"
   ]
  },
  {
   "cell_type": "code",
   "execution_count": null,
   "metadata": {},
   "outputs": [],
   "source": [
    "    plt.figure(figsize=(30, 6))\n",
    "    sns.boxplot(x='foto_mes', y='mcuentas_saldo',hue=\"clase_ternaria\", data=df_ordenado, showfliers=False)\n",
    "    plt.title(\"Boxplot de por mes, sin data_drift\")\n",
    "    plt.xlabel(\"mes\")\n",
    "    plt.ylabel('mcuentas_saldo')\n",
    "    plt.show()"
   ]
  },
  {
   "cell_type": "code",
   "execution_count": null,
   "metadata": {},
   "outputs": [],
   "source": [
    "# Create a PDF to store the figures\n",
    "with PdfPages('/home/maestria_uba_jorrin/buckets/b1/Figuras/multiple_figures.pdf') as pdf:\n",
    "    for campo in campos_monetarios[:3]:\n",
    "        \n",
    "        # Plot the data\n",
    "        plt.figure(figsize=(30, 6))\n",
    "        sns.boxplot(x='foto_mes', y=campo, data=df_ordenado, showfliers=False)\n",
    "        plt.title(\"Boxplot de por mes, sin data drift\")\n",
    "        plt.xlabel(\"mes\")\n",
    "        plt.ylabel(campo)\n",
    "\n",
    "        # Save the current figure to the PDF\n",
    "        pdf.savefig()\n",
    "        \n",
    "        # Close the current figure to free up memory\n",
    "        plt.close()\n",
    "\n",
    "print(\"PDF saved as 'multiple_figures.pdf'\")"
   ]
  },
  {
   "cell_type": "code",
   "execution_count": null,
   "metadata": {},
   "outputs": [],
   "source": [
    "# Create a PDF to store the figures\n",
    "with PdfPages('/home/maestria_uba_jorrin/buckets/b1/Figuras/box_plot_correccion_data_drift_rank_cero.pdf') as pdf:\n",
    "    for campo in campos_monetarios:\n",
    "        \n",
    "        # Plot the data\n",
    "        plt.figure(figsize=(30, 6))\n",
    "        sns.boxplot(x='foto_mes', y=campo, data=df_rank_cero_ordenado, showfliers=False)\n",
    "        plt.title(\"Boxplot de por mes, sin data drift\")\n",
    "        plt.xlabel(\"mes\")\n",
    "        plt.ylabel(campo)\n",
    "\n",
    "        # Save the current figure to the PDF\n",
    "        pdf.savefig()\n",
    "        \n",
    "        # Close the current figure to free up memory\n",
    "        plt.close()\n",
    "\n",
    "print(\"PDF saved as 'multiple_figures.pdf'\")"
   ]
  }
 ],
 "metadata": {
  "interpreter": {
   "hash": "7aab4429b6e32afeae24bc9f7bfb4772bf945fa367f4b5318cda4c3be5c6e7a2"
  },
  "kernelspec": {
   "display_name": "Python 3.9.7 64-bit (conda)",
   "name": "python3"
  },
  "language_info": {
   "codemirror_mode": {
    "name": "ipython",
    "version": 3
   },
   "file_extension": ".py",
   "mimetype": "text/x-python",
   "name": "python",
   "nbconvert_exporter": "python",
   "pygments_lexer": "ipython3",
   "version": "3.8.10"
  },
  "orig_nbformat": 4
 },
 "nbformat": 4,
 "nbformat_minor": 2
}
