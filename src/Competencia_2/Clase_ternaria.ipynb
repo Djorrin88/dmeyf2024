{
 "cells": [
  {
   "cell_type": "code",
   "execution_count": null,
   "metadata": {},
   "outputs": [],
   "source": [
    "import numpy as np\n",
    "import pandas as pd\n",
    "import zipfile\n",
    "import tarfile"
   ]
  },
  {
   "cell_type": "code",
   "execution_count": null,
   "metadata": {},
   "outputs": [],
   "source": [
    "with tarfile.open('~/buckets/b1/datasets/competencia_02_crudo.csv.gz', 'r:gz') as tar:\n",
    "     df_1 = pd.read_csv(tar.extractfile('competencia_02_crudo.csv'))"
   ]
  },
  {
   "cell_type": "code",
   "execution_count": 2,
   "metadata": {},
   "outputs": [],
   "source": [
    "# Escribir ruta de donde se encuentra dataset crudo\n",
    "#df_1 = pd.read_csv(\"/home/jorrin/Escritorio/Maestria DC/UBA_DMEyF_2024/UBA_DMEyF_2024/datasets/competencia_01_crudo.csv\")"
   ]
  },
  {
   "cell_type": "code",
   "execution_count": 3,
   "metadata": {},
   "outputs": [
    {
     "data": {
      "text/html": [
       "<div>\n",
       "<style scoped>\n",
       "    .dataframe tbody tr th:only-of-type {\n",
       "        vertical-align: middle;\n",
       "    }\n",
       "\n",
       "    .dataframe tbody tr th {\n",
       "        vertical-align: top;\n",
       "    }\n",
       "\n",
       "    .dataframe thead th {\n",
       "        text-align: right;\n",
       "    }\n",
       "</style>\n",
       "<table border=\"1\" class=\"dataframe\">\n",
       "  <thead>\n",
       "    <tr style=\"text-align: right;\">\n",
       "      <th></th>\n",
       "      <th>numero_de_cliente</th>\n",
       "      <th>foto_mes</th>\n",
       "      <th>active_quarter</th>\n",
       "      <th>cliente_vip</th>\n",
       "      <th>internet</th>\n",
       "      <th>cliente_edad</th>\n",
       "      <th>cliente_antiguedad</th>\n",
       "      <th>mrentabilidad</th>\n",
       "      <th>mrentabilidad_annual</th>\n",
       "      <th>mcomisiones</th>\n",
       "      <th>...</th>\n",
       "      <th>Visa_madelantodolares</th>\n",
       "      <th>Visa_fultimo_cierre</th>\n",
       "      <th>Visa_mpagado</th>\n",
       "      <th>Visa_mpagospesos</th>\n",
       "      <th>Visa_mpagosdolares</th>\n",
       "      <th>Visa_fechaalta</th>\n",
       "      <th>Visa_mconsumototal</th>\n",
       "      <th>Visa_cconsumos</th>\n",
       "      <th>Visa_cadelantosefectivo</th>\n",
       "      <th>Visa_mpagominimo</th>\n",
       "    </tr>\n",
       "  </thead>\n",
       "  <tbody>\n",
       "    <tr>\n",
       "      <th>0</th>\n",
       "      <td>249221109</td>\n",
       "      <td>202101</td>\n",
       "      <td>1</td>\n",
       "      <td>0</td>\n",
       "      <td>0</td>\n",
       "      <td>61</td>\n",
       "      <td>300</td>\n",
       "      <td>1664.94</td>\n",
       "      <td>17994.40</td>\n",
       "      <td>1605.81</td>\n",
       "      <td>...</td>\n",
       "      <td>0.0</td>\n",
       "      <td>4.0</td>\n",
       "      <td>0.0</td>\n",
       "      <td>-37098.90</td>\n",
       "      <td>0.0</td>\n",
       "      <td>7867.0</td>\n",
       "      <td>118514.88</td>\n",
       "      <td>10.0</td>\n",
       "      <td>0.0</td>\n",
       "      <td>76538.25</td>\n",
       "    </tr>\n",
       "    <tr>\n",
       "      <th>1</th>\n",
       "      <td>249221468</td>\n",
       "      <td>202101</td>\n",
       "      <td>1</td>\n",
       "      <td>0</td>\n",
       "      <td>0</td>\n",
       "      <td>53</td>\n",
       "      <td>37</td>\n",
       "      <td>4879.78</td>\n",
       "      <td>18640.95</td>\n",
       "      <td>1149.08</td>\n",
       "      <td>...</td>\n",
       "      <td>0.0</td>\n",
       "      <td>4.0</td>\n",
       "      <td>0.0</td>\n",
       "      <td>-9864.93</td>\n",
       "      <td>0.0</td>\n",
       "      <td>1124.0</td>\n",
       "      <td>31427.14</td>\n",
       "      <td>14.0</td>\n",
       "      <td>0.0</td>\n",
       "      <td>0.00</td>\n",
       "    </tr>\n",
       "    <tr>\n",
       "      <th>2</th>\n",
       "      <td>249223005</td>\n",
       "      <td>202101</td>\n",
       "      <td>1</td>\n",
       "      <td>0</td>\n",
       "      <td>0</td>\n",
       "      <td>48</td>\n",
       "      <td>202</td>\n",
       "      <td>1828.35</td>\n",
       "      <td>37789.01</td>\n",
       "      <td>610.12</td>\n",
       "      <td>...</td>\n",
       "      <td>0.0</td>\n",
       "      <td>4.0</td>\n",
       "      <td>0.0</td>\n",
       "      <td>-32119.08</td>\n",
       "      <td>0.0</td>\n",
       "      <td>3486.0</td>\n",
       "      <td>855.11</td>\n",
       "      <td>2.0</td>\n",
       "      <td>0.0</td>\n",
       "      <td>19389.69</td>\n",
       "    </tr>\n",
       "    <tr>\n",
       "      <th>3</th>\n",
       "      <td>249228180</td>\n",
       "      <td>202101</td>\n",
       "      <td>1</td>\n",
       "      <td>0</td>\n",
       "      <td>0</td>\n",
       "      <td>66</td>\n",
       "      <td>320</td>\n",
       "      <td>175.87</td>\n",
       "      <td>2600.67</td>\n",
       "      <td>276.22</td>\n",
       "      <td>...</td>\n",
       "      <td>0.0</td>\n",
       "      <td>4.0</td>\n",
       "      <td>0.0</td>\n",
       "      <td>-10891.30</td>\n",
       "      <td>0.0</td>\n",
       "      <td>8925.0</td>\n",
       "      <td>7517.73</td>\n",
       "      <td>6.0</td>\n",
       "      <td>0.0</td>\n",
       "      <td>516.12</td>\n",
       "    </tr>\n",
       "    <tr>\n",
       "      <th>4</th>\n",
       "      <td>249232117</td>\n",
       "      <td>202101</td>\n",
       "      <td>1</td>\n",
       "      <td>0</td>\n",
       "      <td>0</td>\n",
       "      <td>79</td>\n",
       "      <td>373</td>\n",
       "      <td>16600.69</td>\n",
       "      <td>32270.07</td>\n",
       "      <td>16367.13</td>\n",
       "      <td>...</td>\n",
       "      <td>0.0</td>\n",
       "      <td>4.0</td>\n",
       "      <td>0.0</td>\n",
       "      <td>-43610.75</td>\n",
       "      <td>0.0</td>\n",
       "      <td>8607.0</td>\n",
       "      <td>37309.25</td>\n",
       "      <td>5.0</td>\n",
       "      <td>0.0</td>\n",
       "      <td>3084.99</td>\n",
       "    </tr>\n",
       "  </tbody>\n",
       "</table>\n",
       "<p>5 rows × 154 columns</p>\n",
       "</div>"
      ],
      "text/plain": [
       "   numero_de_cliente  foto_mes  active_quarter  cliente_vip  internet  \\\n",
       "0          249221109    202101               1            0         0   \n",
       "1          249221468    202101               1            0         0   \n",
       "2          249223005    202101               1            0         0   \n",
       "3          249228180    202101               1            0         0   \n",
       "4          249232117    202101               1            0         0   \n",
       "\n",
       "   cliente_edad  cliente_antiguedad  mrentabilidad  mrentabilidad_annual  \\\n",
       "0            61                 300        1664.94              17994.40   \n",
       "1            53                  37        4879.78              18640.95   \n",
       "2            48                 202        1828.35              37789.01   \n",
       "3            66                 320         175.87               2600.67   \n",
       "4            79                 373       16600.69              32270.07   \n",
       "\n",
       "   mcomisiones  ...  Visa_madelantodolares  Visa_fultimo_cierre  Visa_mpagado  \\\n",
       "0      1605.81  ...                    0.0                  4.0           0.0   \n",
       "1      1149.08  ...                    0.0                  4.0           0.0   \n",
       "2       610.12  ...                    0.0                  4.0           0.0   \n",
       "3       276.22  ...                    0.0                  4.0           0.0   \n",
       "4     16367.13  ...                    0.0                  4.0           0.0   \n",
       "\n",
       "   Visa_mpagospesos  Visa_mpagosdolares  Visa_fechaalta  Visa_mconsumototal  \\\n",
       "0         -37098.90                 0.0          7867.0           118514.88   \n",
       "1          -9864.93                 0.0          1124.0            31427.14   \n",
       "2         -32119.08                 0.0          3486.0              855.11   \n",
       "3         -10891.30                 0.0          8925.0             7517.73   \n",
       "4         -43610.75                 0.0          8607.0            37309.25   \n",
       "\n",
       "   Visa_cconsumos  Visa_cadelantosefectivo  Visa_mpagominimo  \n",
       "0            10.0                      0.0          76538.25  \n",
       "1            14.0                      0.0              0.00  \n",
       "2             2.0                      0.0          19389.69  \n",
       "3             6.0                      0.0            516.12  \n",
       "4             5.0                      0.0           3084.99  \n",
       "\n",
       "[5 rows x 154 columns]"
      ]
     },
     "execution_count": 3,
     "metadata": {},
     "output_type": "execute_result"
    }
   ],
   "source": [
    "df_1.head()"
   ]
  },
  {
   "cell_type": "code",
   "execution_count": 3,
   "metadata": {},
   "outputs": [],
   "source": [
    "df_ordenado = df_1.sort_values(by=['numero_de_cliente','foto_mes'])"
   ]
  },
  {
   "cell_type": "code",
   "execution_count": 4,
   "metadata": {},
   "outputs": [],
   "source": [
    "nclien_fmes=np.array(df_ordenado[['numero_de_cliente','foto_mes']])"
   ]
  },
  {
   "cell_type": "code",
   "execution_count": 15,
   "metadata": {},
   "outputs": [],
   "source": [
    "def ternaria(x0,mes_final):\n",
    "    \n",
    "    clase_ternaria = []\n",
    "\n",
    "    #agreguemos dos filas al final para poder correr el algoritmo\n",
    "    x = np.concatenate([x0,np.array(((np.nan,np.nan),(np.nan,np.nan)))],axis=0)\n",
    "\n",
    "    for i in range(len(x[:,0])-2):\n",
    "        # Condicion clase baja+2\n",
    "        if ((x[i,1] ==mes_final) or (x[i,1] ==mes_final-1)):\n",
    "            clase_ternaria.append(np.nan)\n",
    "            \n",
    "        elif ((x[i,0] ==x[i+1,0]) and (x[i,1] ==(x[i+1,1]-1) )):\n",
    "            if ((x[i,0] ==x[i+2,0]) and (x[i,1] ==(x[i+2,1]-2) )):\n",
    "                clase = \"CONTINUA\"\n",
    "                clase_ternaria.append(clase)\n",
    "            else:\n",
    "                clase = \"BAJA+2\"\n",
    "                clase_ternaria.append(clase)\n",
    "        else: \n",
    "            #Consideremos el caso raro como continua\n",
    "            if((x[i,0] ==x[i+1,0]) and (x[i,1] ==(x[i+1,1]-2) )):\n",
    "                #clase = \"caso raro\"\n",
    "                clase = 'CONTINUA'\n",
    "                clase_ternaria.append(clase)\n",
    "            else:\n",
    "                clase_ternaria.append('BAJA+1')\n",
    "\n",
    "    return(clase_ternaria)\n"
   ]
  },
  {
   "cell_type": "code",
   "execution_count": 17,
   "metadata": {},
   "outputs": [],
   "source": [
    "clases = ternaria(nclien_fmes,202106)"
   ]
  },
  {
   "cell_type": "code",
   "execution_count": 18,
   "metadata": {},
   "outputs": [],
   "source": [
    "df_ordenado['clase_ternaria'] =np.array(clases)"
   ]
  },
  {
   "cell_type": "code",
   "execution_count": 23,
   "metadata": {},
   "outputs": [
    {
     "data": {
      "text/plain": [
       "CONTINUA    161684\n",
       "BAJA+1        1020\n",
       "BAJA+2         981\n",
       "Name: clase_ternaria, dtype: int64"
      ]
     },
     "execution_count": 23,
     "metadata": {},
     "output_type": "execute_result"
    }
   ],
   "source": [
    "df_ordenado[df_ordenado['foto_mes']==202103]['clase_ternaria'].value_counts()"
   ]
  },
  {
   "cell_type": "code",
   "execution_count": 24,
   "metadata": {},
   "outputs": [],
   "source": [
    "df_ordenado.to_csv('~/buckets/b1/datasets/competencia_01.csv')"
   ]
  },
  {
   "cell_type": "code",
   "execution_count": 25,
   "metadata": {},
   "outputs": [
    {
     "data": {
      "text/plain": [
       "Index(['numero_de_cliente', 'foto_mes', 'active_quarter', 'cliente_vip',\n",
       "       'internet', 'cliente_edad', 'cliente_antiguedad', 'mrentabilidad',\n",
       "       'mrentabilidad_annual', 'mcomisiones',\n",
       "       ...\n",
       "       'Visa_fultimo_cierre', 'Visa_mpagado', 'Visa_mpagospesos',\n",
       "       'Visa_mpagosdolares', 'Visa_fechaalta', 'Visa_mconsumototal',\n",
       "       'Visa_cconsumos', 'Visa_cadelantosefectivo', 'Visa_mpagominimo',\n",
       "       'clase_ternaria'],\n",
       "      dtype='object', length=155)"
      ]
     },
     "execution_count": 25,
     "metadata": {},
     "output_type": "execute_result"
    }
   ],
   "source": [
    "df_ordenado.columns"
   ]
  },
  {
   "cell_type": "code",
   "execution_count": null,
   "metadata": {},
   "outputs": [],
   "source": []
  }
 ],
 "metadata": {
  "interpreter": {
   "hash": "7aab4429b6e32afeae24bc9f7bfb4772bf945fa367f4b5318cda4c3be5c6e7a2"
  },
  "kernelspec": {
   "display_name": "Python 3.9.7 64-bit (conda)",
   "name": "python3"
  },
  "language_info": {
   "codemirror_mode": {
    "name": "ipython",
    "version": 3
   },
   "file_extension": ".py",
   "mimetype": "text/x-python",
   "name": "python",
   "nbconvert_exporter": "python",
   "pygments_lexer": "ipython3",
   "version": "3.8.10"
  },
  "orig_nbformat": 4
 },
 "nbformat": 4,
 "nbformat_minor": 2
}
